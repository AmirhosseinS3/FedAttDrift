{
 "metadata": {
  "language_info": {
   "codemirror_mode": {
    "name": "ipython",
    "version": 3
   },
   "file_extension": ".py",
   "mimetype": "text/x-python",
   "name": "python",
   "nbconvert_exporter": "python",
   "pygments_lexer": "ipython3",
   "version": "3.8.4-final"
  },
  "orig_nbformat": 2,
  "kernelspec": {
   "name": "python384jvsc74a57bd02db524e06e9f5f4ffedc911c917cb75e12dbc923643829bf417064a77eb14d37",
   "display_name": "Python 3.8.4 64-bit"
  },
  "metadata": {
   "interpreter": {
    "hash": "2db524e06e9f5f4ffedc911c917cb75e12dbc923643829bf417064a77eb14d37"
   }
  }
 },
 "nbformat": 4,
 "nbformat_minor": 2,
 "cells": [
  {
   "cell_type": "code",
   "execution_count": 2,
   "metadata": {},
   "outputs": [],
   "source": [
    "import pandas as pd\n",
    "import numpy as np\n",
    "from math import pi, radians\n",
    "from matplotlib import pyplot as plt\n",
    "import tensorflow as tf"
   ]
  },
  {
   "cell_type": "code",
   "execution_count": 1,
   "metadata": {},
   "outputs": [],
   "source": [
    "def normalize(vec):\n",
    "    max_val = max(vec)\n",
    "    min_val = min(vec)\n",
    "    return (vec - min_val) / (max_val - min_val)"
   ]
  },
  {
   "cell_type": "code",
   "execution_count": 12,
   "metadata": {},
   "outputs": [
    {
     "output_type": "execute_result",
     "data": {
      "text/plain": [
       "                             Time  Fog node  Device       Long        Lat  \\\n",
       "0      2014-02-01 00:00:19.979934       8.0     260  41.905473  12.467404   \n",
       "1      2014-02-01 00:00:24.285752       7.0     331  41.900416  12.473143   \n",
       "2      2014-02-01 00:00:28.605089       5.0     172  41.874400  12.485700   \n",
       "3      2014-02-01 00:00:35.081246       8.0     260  41.905489  12.468895   \n",
       "4      2014-02-01 00:00:40.630558       7.0     331  41.900416  12.473143   \n",
       "...                           ...       ...     ...        ...        ...   \n",
       "17020  2014-03-02 22:28:53.726640       7.0      29  41.888200  12.481300   \n",
       "17021  2014-03-02 22:29:00.934281       7.0      29  41.888200  12.481300   \n",
       "17022  2014-03-02 22:29:09.387146       7.0      29  41.888200  12.481300   \n",
       "17023  2014-03-02 22:29:14.803807       7.0      29  41.888200  12.481300   \n",
       "17024  2014-03-02 22:29:24.373048       7.0      29  41.887800  12.481200   \n",
       "\n",
       "             Cost  TimeSec  TimeMin  \n",
       "0       35.119605       19        0  \n",
       "1       91.813924       24        0  \n",
       "2      124.825902       28        0  \n",
       "3       44.117762       35        0  \n",
       "4      110.382290       40        0  \n",
       "...           ...      ...      ...  \n",
       "17020   22.872783    80933     1348  \n",
       "17021    8.376134    80940     1349  \n",
       "17022    7.464503    80949     1349  \n",
       "17023   11.699897    80954     1349  \n",
       "17024   15.381569    80964     1349  \n",
       "\n",
       "[17025 rows x 8 columns]"
      ],
      "text/html": "<div>\n<style scoped>\n    .dataframe tbody tr th:only-of-type {\n        vertical-align: middle;\n    }\n\n    .dataframe tbody tr th {\n        vertical-align: top;\n    }\n\n    .dataframe thead th {\n        text-align: right;\n    }\n</style>\n<table border=\"1\" class=\"dataframe\">\n  <thead>\n    <tr style=\"text-align: right;\">\n      <th></th>\n      <th>Time</th>\n      <th>Fog node</th>\n      <th>Device</th>\n      <th>Long</th>\n      <th>Lat</th>\n      <th>Cost</th>\n      <th>TimeSec</th>\n      <th>TimeMin</th>\n    </tr>\n  </thead>\n  <tbody>\n    <tr>\n      <th>0</th>\n      <td>2014-02-01 00:00:19.979934</td>\n      <td>8.0</td>\n      <td>260</td>\n      <td>41.905473</td>\n      <td>12.467404</td>\n      <td>35.119605</td>\n      <td>19</td>\n      <td>0</td>\n    </tr>\n    <tr>\n      <th>1</th>\n      <td>2014-02-01 00:00:24.285752</td>\n      <td>7.0</td>\n      <td>331</td>\n      <td>41.900416</td>\n      <td>12.473143</td>\n      <td>91.813924</td>\n      <td>24</td>\n      <td>0</td>\n    </tr>\n    <tr>\n      <th>2</th>\n      <td>2014-02-01 00:00:28.605089</td>\n      <td>5.0</td>\n      <td>172</td>\n      <td>41.874400</td>\n      <td>12.485700</td>\n      <td>124.825902</td>\n      <td>28</td>\n      <td>0</td>\n    </tr>\n    <tr>\n      <th>3</th>\n      <td>2014-02-01 00:00:35.081246</td>\n      <td>8.0</td>\n      <td>260</td>\n      <td>41.905489</td>\n      <td>12.468895</td>\n      <td>44.117762</td>\n      <td>35</td>\n      <td>0</td>\n    </tr>\n    <tr>\n      <th>4</th>\n      <td>2014-02-01 00:00:40.630558</td>\n      <td>7.0</td>\n      <td>331</td>\n      <td>41.900416</td>\n      <td>12.473143</td>\n      <td>110.382290</td>\n      <td>40</td>\n      <td>0</td>\n    </tr>\n    <tr>\n      <th>...</th>\n      <td>...</td>\n      <td>...</td>\n      <td>...</td>\n      <td>...</td>\n      <td>...</td>\n      <td>...</td>\n      <td>...</td>\n      <td>...</td>\n    </tr>\n    <tr>\n      <th>17020</th>\n      <td>2014-03-02 22:28:53.726640</td>\n      <td>7.0</td>\n      <td>29</td>\n      <td>41.888200</td>\n      <td>12.481300</td>\n      <td>22.872783</td>\n      <td>80933</td>\n      <td>1348</td>\n    </tr>\n    <tr>\n      <th>17021</th>\n      <td>2014-03-02 22:29:00.934281</td>\n      <td>7.0</td>\n      <td>29</td>\n      <td>41.888200</td>\n      <td>12.481300</td>\n      <td>8.376134</td>\n      <td>80940</td>\n      <td>1349</td>\n    </tr>\n    <tr>\n      <th>17022</th>\n      <td>2014-03-02 22:29:09.387146</td>\n      <td>7.0</td>\n      <td>29</td>\n      <td>41.888200</td>\n      <td>12.481300</td>\n      <td>7.464503</td>\n      <td>80949</td>\n      <td>1349</td>\n    </tr>\n    <tr>\n      <th>17023</th>\n      <td>2014-03-02 22:29:14.803807</td>\n      <td>7.0</td>\n      <td>29</td>\n      <td>41.888200</td>\n      <td>12.481300</td>\n      <td>11.699897</td>\n      <td>80954</td>\n      <td>1349</td>\n    </tr>\n    <tr>\n      <th>17024</th>\n      <td>2014-03-02 22:29:24.373048</td>\n      <td>7.0</td>\n      <td>29</td>\n      <td>41.887800</td>\n      <td>12.481200</td>\n      <td>15.381569</td>\n      <td>80964</td>\n      <td>1349</td>\n    </tr>\n  </tbody>\n</table>\n<p>17025 rows × 8 columns</p>\n</div>"
     },
     "metadata": {},
     "execution_count": 12
    }
   ],
   "source": [
    "df = pd.read_csv(\"trace/trace.csv\")\n",
    "df = df.replace(np.inf, np.nan)\n",
    "df = df.dropna()\n",
    "df = df.groupby(['Time', 'Fog node', 'Device', 'Long', 'Lat'])['Cost'].mean().reset_index()\n",
    "df.sort_values(by=['Device', 'Time'])\n",
    "###########################\n",
    "\n",
    "###########################\n",
    "df_time = pd.to_datetime(df['Time'])\n",
    "h = df_time.dt.hour\n",
    "m = df_time.dt.minute\n",
    "s = df_time.dt.second\n",
    "df['TimeSec'] = s + 60*m + 3600*h\n",
    "df['TimeMin'] = m + 60*h\n",
    "###########################\n",
    "\n",
    "###########################\n",
    "# fogs_data = pd.read_csv(\"trace/fogs.csv\")\n",
    "# fogs_data['FogLong'] = fogs_data['Long']\n",
    "# fogs_data['FogLat'] = fogs_data['Lat']\n",
    "# fogs_data = fogs_data.drop(columns=['Long', 'Lat'])\n",
    "# df = df.join(fogs_data.set_index('Fog node'), on='Fog node')\n",
    "# df['r'] = np.sqrt((np.sin(np.radians(df['Lat'])) - np.sin(np.radians(df['FogLat'])))**2 + (np.cos(np.radians(df['Lat']))*np.cos(np.radians(df['Long'])) - np.cos(np.radians(df['FogLat']))*np.cos(np.radians(df['FogLong'])))**2 + (np.cos(np.radians(df['Lat']))*np.sin(np.radians(df['Long'])) - np.cos(np.radians(df['FogLat']))*np.sin(np.radians(df['FogLong'])))**2)\n",
    "###########################\n",
    "\n",
    "###########################\n",
    "df.to_csv(\"trace/trace_avg.csv\")"
   ]
  },
  {
   "cell_type": "code",
   "execution_count": 8,
   "metadata": {},
   "outputs": [],
   "source": [
    "df = pd.read_csv(\"trace/salman.csv\")\n",
    "df = df.replace(np.inf, np.nan)\n",
    "df = df.dropna()\n",
    "df = df.groupby(['Time', 'Fog node', 'Device', 'Long', 'Lat'])['Cost'].mean().reset_index()\n",
    "df = df.sort_values(by=['Device', 'Time'])\n",
    "###########################\n",
    "\n",
    "###########################\n",
    "df_time = pd.to_datetime(df['Time'])\n",
    "h = df_time.dt.hour\n",
    "m = df_time.dt.minute\n",
    "df['TimeMin'] = m + 60*h\n",
    "###########################\n",
    "\n",
    "###########################\n",
    "# fogs_data = pd.read_csv(\"trace/fogs.csv\")\n",
    "# fogs_data['FogLong'] = fogs_data['Long']\n",
    "# fogs_data['FogLat'] = fogs_data['Lat']\n",
    "# fogs_data = fogs_data.drop(columns=['Long', 'Lat'])\n",
    "# df = df.join(fogs_data.set_index('Fog node'), on='Fog node')\n",
    "# df['r'] = np.sqrt((np.sin(np.radians(df['Lat'])) - np.sin(np.radians(df['FogLat'])))**2 + (np.cos(np.radians(df['Lat']))*np.cos(np.radians(df['Long'])) - np.cos(np.radians(df['FogLat']))*np.cos(np.radians(df['FogLong'])))**2 + (np.cos(np.radians(df['Lat']))*np.sin(np.radians(df['Long'])) - np.cos(np.radians(df['FogLat']))*np.sin(np.radians(df['FogLong'])))**2)\n",
    "###########################\n",
    "\n",
    "###########################\n",
    "df.to_csv(\"trace/salman_avg.csv\")\n",
    "# df"
   ]
  },
  {
   "cell_type": "code",
   "execution_count": null,
   "metadata": {},
   "outputs": [],
   "source": []
  }
 ]
}