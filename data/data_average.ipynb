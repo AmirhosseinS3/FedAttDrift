{
 "metadata": {
  "language_info": {
   "codemirror_mode": {
    "name": "ipython",
    "version": 3
   },
   "file_extension": ".py",
   "mimetype": "text/x-python",
   "name": "python",
   "nbconvert_exporter": "python",
   "pygments_lexer": "ipython3",
   "version": "3.8.4-final"
  },
  "orig_nbformat": 2,
  "kernelspec": {
   "name": "python3",
   "display_name": "Python 3.8.4 64-bit",
   "metadata": {
    "interpreter": {
     "hash": "2db524e06e9f5f4ffedc911c917cb75e12dbc923643829bf417064a77eb14d37"
    }
   }
  }
 },
 "nbformat": 4,
 "nbformat_minor": 2,
 "cells": [
  {
   "cell_type": "code",
   "execution_count": 6,
   "metadata": {},
   "outputs": [],
   "source": [
    "import pandas as pd\n",
    "import numpy as np\n",
    "from math import pi, radians\n",
    "from matplotlib import pyplot as plt\n",
    "import tensorflow as tf"
   ]
  },
  {
   "cell_type": "code",
   "execution_count": 7,
   "metadata": {},
   "outputs": [],
   "source": [
    "def normalize(vec):\n",
    "    max_val = max(vec)\n",
    "    min_val = min(vec)\n",
    "    return (vec - min_val) / (max_val - min_val)"
   ]
  },
  {
   "cell_type": "code",
   "execution_count": 33,
   "metadata": {},
   "outputs": [],
   "source": [
    "df = pd.read_csv(\"trace/trace.csv\")\n",
    "df = df.replace(np.inf, np.nan)\n",
    "df = df.dropna()\n",
    "df = df.groupby(['Time', 'Fog node', 'Device', 'Long', 'Lat'])['Cost'].mean().reset_index()\n",
    "df.sort_values(by=['Device', 'Time'])\n",
    "###########################\n",
    "\n",
    "###########################\n",
    "df_time = pd.to_datetime(df['Time'])\n",
    "h = df_time.dt.hour\n",
    "m = df_time.dt.minute\n",
    "s = df_time.dt.second\n",
    "df['TimeSec'] = s + 60*m + 3600*h\n",
    "df['TimeMin'] = m + 60*h\n",
    "###########################\n",
    "\n",
    "###########################\n",
    "fogs_data = pd.read_csv(\"trace/fogs.csv\")\n",
    "fogs_data['FogLong'] = fogs_data['Long']\n",
    "fogs_data['FogLat'] = fogs_data['Lat']\n",
    "fogs_data = fogs_data.drop(columns=['Long', 'Lat'])\n",
    "df = df.join(fogs_data.set_index('Fog node'), on='Fog node')\n",
    "df['r'] = np.sqrt((np.sin(np.radians(df['Lat'])) - np.sin(np.radians(df['FogLat'])))**2 + (np.cos(np.radians(df['Lat']))*np.cos(np.radians(df['Long'])) - np.cos(np.radians(df['FogLat']))*np.cos(np.radians(df['FogLong'])))**2 + (np.cos(np.radians(df['Lat']))*np.sin(np.radians(df['Long'])) - np.cos(np.radians(df['FogLat']))*np.sin(np.radians(df['FogLong'])))**2)\n",
    "###########################\n",
    "\n",
    "###########################\n",
    "df.to_csv(\"trace/trace_avg.csv\")"
   ]
  },
  {
   "cell_type": "code",
   "execution_count": 32,
   "metadata": {},
   "outputs": [],
   "source": [
    "df = pd.read_csv(\"trace/salman.csv\")\n",
    "df = df.replace(np.inf, np.nan)\n",
    "df = df.dropna()\n",
    "df = df.groupby(['Time', 'Fog node', 'Device', 'Long', 'Lat'])['Cost'].mean().reset_index()\n",
    "df = df.sort_values(by=['Device', 'Time'])\n",
    "###########################\n",
    "\n",
    "###########################\n",
    "df_time = pd.to_datetime(df['Time'])\n",
    "h = df_time.dt.hour\n",
    "m = df_time.dt.minute\n",
    "df['TimeMin'] = m + 60*h\n",
    "###########################\n",
    "\n",
    "###########################\n",
    "# fogs_data = pd.read_csv(\"trace/fogs.csv\")\n",
    "# fogs_data['FogLong'] = fogs_data['Long']\n",
    "# fogs_data['FogLat'] = fogs_data['Lat']\n",
    "# fogs_data = fogs_data.drop(columns=['Long', 'Lat'])\n",
    "# df = df.join(fogs_data.set_index('Fog node'), on='Fog node')\n",
    "# df['r'] = np.sqrt((np.sin(np.radians(df['Lat'])) - np.sin(np.radians(df['FogLat'])))**2 + (np.cos(np.radians(df['Lat']))*np.cos(np.radians(df['Long'])) - np.cos(np.radians(df['FogLat']))*np.cos(np.radians(df['FogLong'])))**2 + (np.cos(np.radians(df['Lat']))*np.sin(np.radians(df['Long'])) - np.cos(np.radians(df['FogLat']))*np.sin(np.radians(df['FogLong'])))**2)\n",
    "###########################\n",
    "\n",
    "###########################\n",
    "df.to_csv(\"trace/salman_avg.csv\")\n",
    "# df"
   ]
  },
  {
   "cell_type": "code",
   "execution_count": null,
   "metadata": {},
   "outputs": [],
   "source": []
  }
 ]
}