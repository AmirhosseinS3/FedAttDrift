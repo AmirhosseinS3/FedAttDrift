{
 "metadata": {
  "language_info": {
   "codemirror_mode": {
    "name": "ipython",
    "version": 3
   },
   "file_extension": ".py",
   "mimetype": "text/x-python",
   "name": "python",
   "nbconvert_exporter": "python",
   "pygments_lexer": "ipython3",
   "version": "3.8.4-final"
  },
  "orig_nbformat": 2,
  "kernelspec": {
   "name": "python3",
   "display_name": "Python 3.8.4 64-bit",
   "metadata": {
    "interpreter": {
     "hash": "2db524e06e9f5f4ffedc911c917cb75e12dbc923643829bf417064a77eb14d37"
    }
   }
  }
 },
 "nbformat": 4,
 "nbformat_minor": 2,
 "cells": [
  {
   "cell_type": "code",
   "execution_count": 1,
   "metadata": {},
   "outputs": [],
   "source": [
    "import pandas as pd\n",
    "import numpy as np\n",
    "from math import pi, radians\n",
    "from matplotlib import pyplot as plt\n",
    "import tensorflow as tf"
   ]
  },
  {
   "cell_type": "code",
   "execution_count": 2,
   "metadata": {},
   "outputs": [],
   "source": [
    "def normalize(vec):\n",
    "    max_val = max(vec)\n",
    "    min_val = min(vec)\n",
    "    return (vec - min_val) / (max_val - min_val)\n",
    "\n",
    "def stardandize(vec):\n",
    "    mean = np.mean(vec)\n",
    "    std = np.std(vec)\n",
    "    return (vec - mean) / std"
   ]
  },
  {
   "cell_type": "code",
   "execution_count": 3,
   "metadata": {},
   "outputs": [],
   "source": [
    "# Cartesian coordinates\n",
    "trace_data = pd.read_csv(\"trace/trace_avg.csv\")\n",
    "trace_data_time = pd.to_datetime(trace_data['Time'])\n",
    "long = np.radians(trace_data['Long'])\n",
    "lat = np.radians(trace_data['Lat'])\n",
    "trace_data['X'] = np.cos(lat) * np.cos(long)\n",
    "trace_data['Y'] = np.cos(lat) * np.sin(long)\n",
    "trace_data['Z'] = np.sin(lat)"
   ]
  },
  {
   "cell_type": "code",
   "execution_count": 4,
   "metadata": {},
   "outputs": [],
   "source": [
    "fogs_data = pd.read_csv(\"trace/fogs.csv\")\n",
    "\n",
    "long = np.radians(fogs_data['Long'])\n",
    "lat = np.radians(fogs_data['Lat'])\n",
    "fogs_data['X fog'] = np.cos(lat) * np.cos(long)\n",
    "fogs_data['Y fog'] = np.cos(lat) * np.sin(long)\n",
    "fogs_data['Z fog'] = np.sin(lat)\n",
    "fogs_data = fogs_data.drop(columns=['Long', 'Lat'])\n",
    "\n",
    "trace_data = trace_data.join(fogs_data.set_index('Fog node'), on='Fog node')\n",
    "trace_data['X rel'] = trace_data['X'] - trace_data['X fog']\n",
    "trace_data['Y rel'] = trace_data['Y'] - trace_data['Y fog']\n",
    "trace_data['Z rel'] = trace_data['Z'] - trace_data['Z fog']\n",
    "\n",
    "lat_star = np.average(trace_data['Lat'])\n",
    "long_star = np.average(trace_data['Long'])\n",
    "\n",
    "trace_data['x'] = trace_data['X'] - np.cos(lat_star) * np.cos(long_star)\n",
    "trace_data['y'] = trace_data['Y'] - np.cos(lat_star) * np.sin(long_star)\n",
    "trace_data['z'] = trace_data['Z'] - np.sin(lat_star)\n",
    "\n",
    "trace_data['x'] = - trace_data['x'] * np.sin(long_star) + trace_data['y'] * np.cos(long_star)\n",
    "trace_data['y'] = - trace_data['x'] * np.cos(long_star) * np.sin(lat_star) - trace_data['y'] * np.sin(long_star) * np.sin(lat_star) + trace_data['z'] * np.cos(lat_star)\n",
    "trace_data = trace_data.drop(columns=['z'])\n",
    "\n",
    "trace_data['x fog'] = trace_data['X fog'] - np.cos(lat_star) * np.cos(long_star)\n",
    "trace_data['y fog'] = trace_data['Y fog'] - np.cos(lat_star) * np.sin(long_star)\n",
    "trace_data['z fog'] = trace_data['Z fog'] - np.sin(lat_star)\n",
    "\n",
    "trace_data['x fog'] = - trace_data['x fog'] * np.sin(long_star) + trace_data['y fog'] * np.cos(long_star)\n",
    "trace_data['y fog'] = - trace_data['x fog'] * np.cos(long_star) * np.sin(lat_star) - trace_data['y fog'] * np.sin(long_star) * np.sin(lat_star) + trace_data['z fog'] * np.cos(lat_star)\n",
    "trace_data = trace_data.drop(columns=['z fog'])\n",
    "\n",
    "trace_data['x rel'] = trace_data['x'] - trace_data['x fog']\n",
    "trace_data['y rel'] = trace_data['y'] - trace_data['y fog']\n",
    "\n",
    "trace_data['r'] = np.sqrt(trace_data['x rel']**2 + trace_data['y rel']**2)\n",
    "trace_data['theta'] = np.arctan(trace_data['y rel'] / trace_data['x rel'])"
   ]
  },
  {
   "cell_type": "code",
   "execution_count": 5,
   "metadata": {},
   "outputs": [],
   "source": [
    "h = trace_data_time.dt.hour\n",
    "m = trace_data_time.dt.minute\n",
    "s = trace_data_time.dt.second\n",
    "day = trace_data_time.dt.day\n",
    "month = trace_data_time.dt.month\n",
    "T = 2*pi*(s+60*m+60*60*h)/(60*60*24)\n",
    "trace_data['CosTime'] = np.cos(T)\n",
    "trace_data['SinTime'] = np.sin(T)"
   ]
  },
  {
   "cell_type": "code",
   "execution_count": 6,
   "metadata": {},
   "outputs": [],
   "source": [
    "trace_data['Cost'] = trace_data['Cost'] / max(trace_data['Cost'])\n",
    "trace_data['r'] = stardandize(trace_data['r'])\n",
    "\n",
    "X_avg = np.average(trace_data['X'])\n",
    "Y_avg = np.average(trace_data['Y'])\n",
    "Z_avg = np.average(trace_data['Z'])\n",
    "\n",
    "X_range = max(trace_data['X']) - min(trace_data['X'])\n",
    "Y_range = max(trace_data['Y']) - min(trace_data['Y'])\n",
    "Z_range = max(trace_data['Z']) - min(trace_data['Z'])\n",
    "\n",
    "trace_data['X'] = (trace_data['X'] - X_avg) / X_range\n",
    "trace_data['Y'] = (trace_data['Y'] - Y_avg) / Y_range\n",
    "trace_data['Z'] = (trace_data['Z'] - Z_avg) / Z_range\n",
    "\n",
    "trace_data['X fog'] = (trace_data['X fog'] - X_avg) / X_range\n",
    "trace_data['Y fog'] = (trace_data['Y fog'] - Y_avg) / Y_range\n",
    "trace_data['Z fog'] = (trace_data['Z fog'] - Z_avg) / Z_range\n",
    "\n",
    "trace_data['X rel'] = trace_data['X rel'] / X_range\n",
    "trace_data['Y rel'] = trace_data['Y rel'] / Y_range\n",
    "trace_data['Z rel'] = trace_data['Z rel'] / Z_range\n",
    "\n",
    "trace_data['Long'] = normalize(trace_data['Long'])\n",
    "trace_data['Lat'] = normalize(trace_data['Lat'])\n",
    "\n",
    "# trace_data['x'] = normalize(trace_data['x'])\n",
    "# trace_data['y'] = normalize(trace_data['y'])"
   ]
  },
  {
   "cell_type": "code",
   "execution_count": 7,
   "metadata": {},
   "outputs": [],
   "source": [
    "# Save preprocessed data\n",
    "trace_data.to_csv(\"trace/trace_preprocessed.csv\")"
   ]
  },
  {
   "cell_type": "code",
   "execution_count": null,
   "metadata": {},
   "outputs": [],
   "source": []
  }
 ]
}