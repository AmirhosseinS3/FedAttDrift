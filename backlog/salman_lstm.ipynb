{
 "metadata": {
  "language_info": {
   "codemirror_mode": {
    "name": "ipython",
    "version": 3
   },
   "file_extension": ".py",
   "mimetype": "text/x-python",
   "name": "python",
   "nbconvert_exporter": "python",
   "pygments_lexer": "ipython3",
   "version": "3.8.4-final"
  },
  "orig_nbformat": 2,
  "kernelspec": {
   "name": "python3",
   "display_name": "Python 3.8.4 64-bit",
   "metadata": {
    "interpreter": {
     "hash": "2db524e06e9f5f4ffedc911c917cb75e12dbc923643829bf417064a77eb14d37"
    }
   }
  }
 },
 "nbformat": 4,
 "nbformat_minor": 2,
 "cells": [
  {
   "cell_type": "code",
   "execution_count": 1,
   "metadata": {},
   "outputs": [],
   "source": [
    "import pandas as pd\n",
    "import numpy as np\n",
    "from keras.models import Sequential\n",
    "from keras.layers import Dense, LSTM"
   ]
  },
  {
   "cell_type": "code",
   "execution_count": 2,
   "metadata": {},
   "outputs": [],
   "source": [
    "def normalizer(someseries):\n",
    "    maxval = max(someseries)\n",
    "    minval = min(someseries)\n",
    "    newseries = (someseries - minval)/(maxval-minval)\n",
    "    return newseries\n",
    "\n",
    "def standardizer(someseries):\n",
    "    mean = np.mean(someseries)\n",
    "    stddev = np.std(someseries)\n",
    "    someseries = (someseries - mean)/stddev\n",
    "    return someseries"
   ]
  },
  {
   "cell_type": "code",
   "execution_count": 13,
   "metadata": {},
   "outputs": [
    {
     "output_type": "stream",
     "name": "stdout",
     "text": [
      "Shape of the dataframe is (200073, 10)\n"
     ]
    }
   ],
   "source": [
    "df = pd.read_csv('data/trace/salman.csv')\n",
    "df = df.fillna(\"Nil\")\n",
    "df = df[df['Fog node'] != \"Nil\"]\n",
    "#df = df[df['Distance'] != \"undefined\"]\n",
    "df = df[df['Fog node'] != \"test\"]\n",
    "temp = (df['Cost'].astype(float))\n",
    "temp2 = standardizer(df['Distance'].astype(float))\n",
    "df = df.drop(columns = ['Device','Time', 'Unnamed: 0', 'Day', 'Cost', 'Distance'])\n",
    "df['Distance']  = temp2\n",
    "df['Cost'] = normalizer(temp)\n",
    "df = df.drop(columns = ['xcell', 'ycell'])\n",
    "cols = list(df.columns)\n",
    "cols = cols[2:len(cols)] + cols[0:2]\n",
    "df = df[cols]\n",
    "\n",
    "print(\"Shape of the dataframe is {}\".format(df.shape))"
   ]
  },
  {
   "cell_type": "code",
   "execution_count": 14,
   "metadata": {},
   "outputs": [],
   "source": [
    "prevvals = 10\n",
    "\n",
    "inputrow = []\n",
    "outputrow = []\n",
    "\n",
    "for counter in range(0, len(df)-prevvals-1):\n",
    "    temp = df.iloc[counter:counter+prevvals, 0:len(cols)-2]\n",
    "    inputrow.append(np.array(temp))\n",
    "    outputrow.append(df.iloc[counter+prevvals+1, len(cols)-3:len(df.columns)])\n",
    "\n",
    "inputdf = np.array(inputrow)\n",
    "outputdf = np.array(outputrow)\n",
    "\n",
    "cutoff = int(0.80 * len(inputdf))\n",
    "X_train = np.float32(inputdf[0:cutoff])\n",
    "X_test = np.float32(inputdf[cutoff:len(inputdf)])\n",
    "y_train = np.float32(outputdf[0:cutoff])\n",
    "y_test = np.float32(outputdf[cutoff:len(outputdf)])"
   ]
  },
  {
   "cell_type": "code",
   "execution_count": 15,
   "metadata": {},
   "outputs": [
    {
     "output_type": "stream",
     "name": "stdout",
     "text": [
      "Epoch 1/10\n",
      "33/33 [==============================] - 19s 484ms/step - loss: 0.0130 - mae: 0.0876 - val_loss: 0.0052 - val_mae: 0.0559\n",
      "Epoch 2/10\n",
      "33/33 [==============================] - 14s 438ms/step - loss: 0.0058 - mae: 0.0558 - val_loss: 0.0048 - val_mae: 0.0520\n",
      "Epoch 3/10\n",
      "33/33 [==============================] - 14s 436ms/step - loss: 0.0056 - mae: 0.0546 - val_loss: 0.0048 - val_mae: 0.0510\n",
      "Epoch 4/10\n",
      "33/33 [==============================] - 15s 443ms/step - loss: 0.0055 - mae: 0.0541 - val_loss: 0.0046 - val_mae: 0.0507\n",
      "Epoch 5/10\n",
      "33/33 [==============================] - 14s 436ms/step - loss: 0.0054 - mae: 0.0536 - val_loss: 0.0045 - val_mae: 0.0504\n",
      "Epoch 6/10\n",
      "33/33 [==============================] - 14s 436ms/step - loss: 0.0052 - mae: 0.0532 - val_loss: 0.0044 - val_mae: 0.0505\n",
      "Epoch 7/10\n",
      "33/33 [==============================] - 14s 440ms/step - loss: 0.0051 - mae: 0.0528 - val_loss: 0.0050 - val_mae: 0.0567\n",
      "Epoch 8/10\n",
      "33/33 [==============================] - 15s 442ms/step - loss: 0.0053 - mae: 0.0545 - val_loss: 0.0043 - val_mae: 0.0488\n",
      "Epoch 9/10\n",
      "33/33 [==============================] - 14s 435ms/step - loss: 0.0049 - mae: 0.0514 - val_loss: 0.0042 - val_mae: 0.0479\n",
      "Epoch 10/10\n",
      "33/33 [==============================] - 14s 438ms/step - loss: 0.0048 - mae: 0.0513 - val_loss: 0.0043 - val_mae: 0.0477\n"
     ]
    },
    {
     "output_type": "execute_result",
     "data": {
      "text/plain": [
       "<tensorflow.python.keras.callbacks.History at 0x2190c28ca60>"
      ]
     },
     "metadata": {},
     "execution_count": 15
    }
   ],
   "source": [
    "model = Sequential()\n",
    "model.add(LSTM(50, input_shape=(inputdf.shape[1], inputdf.shape[2]), return_sequences=True))\n",
    "model.add(LSTM(50))\n",
    "model.add(Dense(10, activation='sigmoid'))\n",
    "model.add(Dense(1))\n",
    "model.compile(loss=\"mse\", optimizer='adam', metrics=['mae'])\n",
    "model.fit(X_train, y_train[:,0], epochs=10, batch_size=5000, verbose=True, validation_data=(X_test, y_test[:,0]))"
   ]
  },
  {
   "cell_type": "code",
   "execution_count": 6,
   "metadata": {},
   "outputs": [
    {
     "output_type": "stream",
     "name": "stdout",
     "text": [
      "[[0.17910652]\n [0.1805083 ]\n [0.18027277]\n [0.18028952]\n [0.18140037]\n [0.18464465]\n [0.1868241 ]\n [0.19227536]\n [0.19636919]\n [0.19920154]]\n"
     ]
    }
   ],
   "source": [
    "pred = model.predict(X_test)\n",
    "print(pred[0:10])\n",
    "# print(y_test[:, 0])\n",
    "print(np.mean(np.abs((pred-y_test[:, 0])/pred)))"
   ]
  },
  {
   "cell_type": "code",
   "execution_count": null,
   "metadata": {},
   "outputs": [],
   "source": []
  }
 ]
}